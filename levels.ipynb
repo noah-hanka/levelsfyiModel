{
 "cells": [
  {
   "cell_type": "code",
   "execution_count": 70,
   "metadata": {},
   "outputs": [],
   "source": [
    "from bs4 import BeautifulSoup as bs\n",
    "import pandas as pd\n",
    "import numpy as np\n",
    "from selenium import webdriver\n",
    "from selenium.webdriver.common.keys import Keys\n",
    "from selenium.webdriver.chrome.service import Service\n",
    "from selenium.webdriver.common.action_chains import ActionChains\n",
    "from selenium.webdriver.support.ui import WebDriverWait\n",
    "from selenium.webdriver.support import expected_conditions as EC\n",
    "from selenium.webdriver.common.by import By\n",
    "import pickle\n",
    "import time\n",
    "import sys\n"
   ]
  },
  {
   "cell_type": "code",
   "execution_count": 82,
   "metadata": {},
   "outputs": [
    {
     "ename": "KeyboardInterrupt",
     "evalue": "",
     "output_type": "error",
     "traceback": [
      "\u001b[0;31m---------------------------------------------------------------------------\u001b[0m",
      "\u001b[0;31mKeyboardInterrupt\u001b[0m                         Traceback (most recent call last)",
      "Cell \u001b[0;32mIn [82], line 103\u001b[0m\n\u001b[1;32m    100\u001b[0m         soup \u001b[39m=\u001b[39m get_soup()\n\u001b[1;32m    101\u001b[0m         collectData(soup)\n\u001b[0;32m--> 103\u001b[0m fetchData()\n",
      "Cell \u001b[0;32mIn [82], line 99\u001b[0m, in \u001b[0;36mfetchData\u001b[0;34m()\u001b[0m\n\u001b[1;32m     97\u001b[0m get_next_page()\n\u001b[1;32m     98\u001b[0m time\u001b[39m.\u001b[39msleep(\u001b[39m1\u001b[39m)\n\u001b[0;32m---> 99\u001b[0m expand_entries()\n\u001b[1;32m    100\u001b[0m soup \u001b[39m=\u001b[39m get_soup()\n\u001b[1;32m    101\u001b[0m collectData(soup)\n",
      "Cell \u001b[0;32mIn [82], line 49\u001b[0m, in \u001b[0;36mexpand_entries\u001b[0;34m()\u001b[0m\n\u001b[1;32m     41\u001b[0m \u001b[39mdef\u001b[39;00m \u001b[39mexpand_entries\u001b[39m():\n\u001b[1;32m     42\u001b[0m     \u001b[39m# click all the salary dropdown buttons\u001b[39;00m\n\u001b[1;32m     43\u001b[0m     driver\u001b[39m.\u001b[39mexecute_script(\u001b[39m\"\"\"\u001b[39m\n\u001b[1;32m     44\u001b[0m \u001b[39m        let dropDowns = document.querySelectorAll(\u001b[39m\u001b[39m\"\u001b[39m\u001b[39m.css-5mf6ol\u001b[39m\u001b[39m\"\u001b[39m\u001b[39m);\u001b[39m\n\u001b[1;32m     45\u001b[0m \u001b[39m        for (const dropDown of dropDowns)\u001b[39m\u001b[39m{\u001b[39m\n\u001b[1;32m     46\u001b[0m \u001b[39m            dropDown.click();\u001b[39m\n\u001b[1;32m     47\u001b[0m \u001b[39m        };\u001b[39m\n\u001b[1;32m     48\u001b[0m \u001b[39m    \u001b[39m\u001b[39m\"\"\"\u001b[39m)\n\u001b[0;32m---> 49\u001b[0m     time\u001b[39m.\u001b[39;49msleep(\u001b[39m2\u001b[39;49m)\n\u001b[1;32m     50\u001b[0m     \u001b[39mreturn\u001b[39;00m\n",
      "\u001b[0;31mKeyboardInterrupt\u001b[0m: "
     ]
    }
   ],
   "source": [
    "serv = Service('/usr/bin/chromedriver')\n",
    "driver = webdriver.Chrome(service=serv)\n",
    "def initialize_client():\n",
    "    url = 'https://www.levels.fyi/companies/google/salaries/software-engineer?offset=0'\n",
    "    driver.get(url)\n",
    "    return\n",
    "\n",
    "#function that removes the blur from the salary list\n",
    "def remove_blur():\n",
    "    # click buttons to remove the blur from salary data\n",
    "    driver.execute_script(\"document.querySelector('.css-kg5r73').scrollIntoView();\")\n",
    "    driver.execute_script(\"document.querySelector('.css-1q3lwpg').click();\")\n",
    "    driver.execute_script(\"document.querySelector('.css-boyo6o').click();\")\n",
    "    return\n",
    "\n",
    "#function that increases the dropdown limit to 50\n",
    "def increase_limit():\n",
    "    # increase rows per page to 50\n",
    "    driver.execute_script(\"document.querySelector('.css-1wxoufr').click();\")\n",
    "    action = ActionChains(driver)\n",
    "    action.key_down(Keys.ENTER)\n",
    "    action.key_up(Keys.ENTER)\n",
    "    action.key_down(Keys.DOWN)\n",
    "    action.key_up(Keys.DOWN)\n",
    "    action.key_down(Keys.DOWN)\n",
    "    action.key_up(Keys.DOWN)\n",
    "    action.key_down(Keys.ENTER)\n",
    "    action.key_up(Keys.ENTER)\n",
    "    action.perform()\n",
    "    time.sleep(5)\n",
    "    return\n",
    "    # loaded = WebDriverWait(driver,30).until(\n",
    "    #     EC.presence_of_element_located((By.CLASS_NAME, \"css-5mf6ol\"))\n",
    "    # )\n",
    "    # if loaded:\n",
    "    #     return\n",
    "    # else:\n",
    "    #     print(\"Connection Error\")\n",
    "    #     sys.exit(0)\n",
    "#expands all salary entries\n",
    "def expand_entries():\n",
    "    # click all the salary dropdown buttons\n",
    "    driver.execute_script(\"\"\"\n",
    "        let dropDowns = document.querySelectorAll(\".css-5mf6ol\");\n",
    "        for (const dropDown of dropDowns){\n",
    "            dropDown.click();\n",
    "        };\n",
    "    \"\"\")\n",
    "    time.sleep(2)\n",
    "    return\n",
    "\n",
    "#function that gets the next page of salaries\n",
    "def get_next_page():\n",
    "    #get the page buttons and click the > one\n",
    "    driver.execute_script(\"\"\"\n",
    "        let buttons = document.querySelectorAll('.css-pvt3pn');\n",
    "        buttons[buttons.length-1].click();\n",
    "    \"\"\")\n",
    "    return\n",
    "\n",
    "#returns soup object of the page\n",
    "def get_soup():\n",
    "    html = driver.page_source\n",
    "    soup = bs(html,'html.parser')\n",
    "    return soup\n",
    "\n",
    "#function to create soup object of page, and collect data\n",
    "salaries_list = []\n",
    "levels_list = []\n",
    "offer_date_list = []\n",
    "years_at_company_list = []\n",
    "years_of_experience_list = []\n",
    "def collectData(soup):\n",
    "    #all salary elements\n",
    "    salaries = soup.select('.css-10sgg15')\n",
    "\n",
    "    #get 'level' elements\n",
    "    levelContainers = soup.select('.expanded-salary-view_flexRow__yvqab')\n",
    "    for container in levelContainers:\n",
    "        subcontainer = container.select('.expanded-salary-view_levelContainer__N_p7A')[0]\n",
    "        level = subcontainer.select('p')[0].text\n",
    "        levels_list.append(level)\n",
    "\n",
    "    for salary in salaries:\n",
    "        salaries_list.append(salary.text)\n",
    "    return\n",
    "\n",
    "\n",
    "def fetchData():\n",
    "    initialize_client()\n",
    "    remove_blur()\n",
    "    increase_limit()\n",
    "    expand_entries()\n",
    "    soup = get_soup()\n",
    "    collectData(soup)\n",
    "    for i in range(19):\n",
    "        get_next_page()\n",
    "        time.sleep(1)\n",
    "        expand_entries()\n",
    "        soup = get_soup()\n",
    "        collectData(soup)\n",
    "\n",
    "fetchData()"
   ]
  },
  {
   "cell_type": "code",
   "execution_count": 54,
   "metadata": {},
   "outputs": [],
   "source": [
    "# initialize_client()\n",
    "# remove_blur()\n",
    "# increase_limit()\n",
    "# expand_entries()\n",
    "# soup = get_soup()"
   ]
  },
  {
   "cell_type": "code",
   "execution_count": 81,
   "metadata": {},
   "outputs": [
    {
     "name": "stdout",
     "output_type": "stream",
     "text": [
      "993\n",
      "993\n"
     ]
    }
   ],
   "source": [
    "print(len(salaries_list))\n",
    "print(len(levels_list))"
   ]
  },
  {
   "cell_type": "code",
   "execution_count": null,
   "metadata": {},
   "outputs": [],
   "source": []
  }
 ],
 "metadata": {
  "kernelspec": {
   "display_name": "Python 3.8.10 ('venv': venv)",
   "language": "python",
   "name": "python3"
  },
  "language_info": {
   "codemirror_mode": {
    "name": "ipython",
    "version": 3
   },
   "file_extension": ".py",
   "mimetype": "text/x-python",
   "name": "python",
   "nbconvert_exporter": "python",
   "pygments_lexer": "ipython3",
   "version": "3.8.10"
  },
  "orig_nbformat": 4,
  "vscode": {
   "interpreter": {
    "hash": "cdaccddbcca949e135227f52f0805c69c7fb50f8a8d2db0b6ef171b9e990f48a"
   }
  }
 },
 "nbformat": 4,
 "nbformat_minor": 2
}
